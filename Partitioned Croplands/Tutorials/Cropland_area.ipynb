{
  "nbformat": 4,
  "nbformat_minor": 0,
  "metadata": {
    "colab": {
      "provenance": []
    },
    "kernelspec": {
      "name": "python3",
      "display_name": "Python 3"
    },
    "language_info": {
      "name": "python"
    }
  },
  "cells": [
    {
      "cell_type": "code",
      "execution_count": null,
      "metadata": {
        "id": "SMIQeh_rsuUs"
      },
      "outputs": [],
      "source": [
        "pip install rasterio geopandas numpy shapely"
      ]
    },
    {
      "cell_type": "code",
      "source": [
        "import rasterio\n",
        "from rasterio.mask import mask\n",
        "import geopandas as gpd\n",
        "import numpy as np\n",
        "\n",
        "def get_area_and_percentage_in_tif(tif_path, shapefile_path, value=1):\n",
        "    # Load the shapefile\n",
        "    shapefile = gpd.read_file(shapefile_path)\n",
        "\n",
        "    # Load the raster file\n",
        "    with rasterio.open(tif_path) as src:\n",
        "        # Ensure CRS matches, and reproject shapefile if needed\n",
        "        shapefile = shapefile.to_crs(src.crs)\n",
        "\n",
        "        # Mask the raster with the shapefile's geometry\n",
        "        geometries = shapefile.geometry\n",
        "        out_image, out_transform = mask(src, geometries, crop=True)\n",
        "\n",
        "        # Extract the data band (assuming single band raster)\n",
        "        data = out_image[0]\n",
        "\n",
        "        # Calculate the pixel area in square meters (assuming CRS is in meters)\n",
        "        pixel_area_sqm = src.res[0] * src.res[1]  # pixel width * pixel height in meters\n",
        "\n",
        "        # Calculate total area within the masked region\n",
        "        total_pixels = np.count_nonzero(data != src.nodata)\n",
        "        total_area_sqm = total_pixels * pixel_area_sqm\n",
        "\n",
        "        # Count the number of pixels with the given value (e.g., 1)\n",
        "        pixel_count_value = np.sum(data == value)\n",
        "\n",
        "        # Calculate the area for the specified value in square meters\n",
        "        area_value_sqm = pixel_count_value * pixel_area_sqm\n",
        "\n",
        "        # Convert both areas to square kilometers\n",
        "        total_area_sqkm = total_area_sqm / 1e6\n",
        "        area_value_sqkm = area_value_sqm / 1e6\n",
        "\n",
        "        # Calculate the percentage\n",
        "        percentage = (area_value_sqkm / total_area_sqkm) * 100 if total_area_sqkm > 0 else 0\n",
        "\n",
        "        return area_value_sqkm, percentage\n",
        "\n"
      ],
      "metadata": {
        "id": "YHJzu9IGs217"
      },
      "execution_count": null,
      "outputs": []
    },
    {
      "cell_type": "code",
      "source": [
        "# Example usage\n",
        "tif_path = 'path/to/your/raster.tif'\n",
        "shapefile_path = 'path/to/your/shapefile.shp'\n",
        "\n",
        "area_sqkm, percentage = get_area_and_percentage_in_tif(tif_path, shapefile_path, value=1)\n",
        "print(f\"Total Cropland: {area_sqkm:.4f} square kilometers\")\n",
        "print(f\"Percentage of Cropland: {percentage:.2f}%\")"
      ],
      "metadata": {
        "id": "kuaynx-Rs7aC"
      },
      "execution_count": null,
      "outputs": []
    }
  ]
}